{
 "cells": [
  {
   "cell_type": "markdown",
   "metadata": {},
   "source": [
    "## Imports"
   ]
  },
  {
   "cell_type": "code",
   "execution_count": null,
   "metadata": {},
   "outputs": [
    {
     "name": "stderr",
     "output_type": "stream",
     "text": [
      "/home/bhagesh20558/miniconda3/envs/mhcp3/lib/python3.8/site-packages/tqdm/auto.py:21: TqdmWarning: IProgress not found. Please update jupyter and ipywidgets. See https://ipywidgets.readthedocs.io/en/stable/user_install.html\n",
      "  from .autonotebook import tqdm as notebook_tqdm\n"
     ]
    }
   ],
   "source": [
    "import os\n",
    "os.environ['CUDA_VISIBLE_DEVICES'] = '0'\n",
    "from utils.hfDataset import MHCoPilot_Dataset \n",
    "from transformers import (\n",
    "    AutoModelForCausalLM,\n",
    "    AutoTokenizer,\n",
    "    AutoModelForTokenClassification,\n",
    ")\n",
    "from peft import (\n",
    "    PeftModel,\n",
    "    get_peft_model,\n",
    ")\n",
    "import torch\n",
    "from tqdm import tqdm\n",
    "# import prompts\n",
    "import torch, wandb\n",
    "# from mh_final.final.model import BertForMultiLabelMulticlassClassification,BertForMultiLabelMulticlassClassificationUtils\n",
    "# import verifier_module_final_dpo_updated as verifier\n",
    "from utils.model import RobertaForMultiLabelMulticlassClassification, RobertaForMultiLabelMulticlassClassificationUtils\n",
    "import prompts"
   ]
  },
  {
   "cell_type": "markdown",
   "metadata": {},
   "source": [
    "## Dataset Loading"
   ]
  },
  {
   "cell_type": "code",
   "execution_count": 3,
   "metadata": {},
   "outputs": [
    {
     "name": "stderr",
     "output_type": "stream",
     "text": [
      "Map: 100%|██████████| 3331/3331 [00:00<00:00, 6071.04 examples/s]\n",
      "Map: 100%|██████████| 953/953 [00:00<00:00, 6198.84 examples/s]\n",
      "Map: 100%|██████████| 476/476 [00:00<00:00, 6055.58 examples/s]\n",
      "Map: 100%|██████████| 3331/3331 [00:01<00:00, 2757.88 examples/s]\n",
      "Map: 100%|██████████| 953/953 [00:00<00:00, 3885.43 examples/s]\n",
      "Map: 100%|██████████| 476/476 [00:00<00:00, 3754.34 examples/s]\n"
     ]
    },
    {
     "data": {
      "image/png": "[encoded data removed]",
      "text/plain": [
       "<Figure size 640x480 with 1 Axes>"
      ]
     },
     "metadata": {},
     "output_type": "display_data"
    }
   ],
   "source": [
    "\n",
    "Dataset = MHCoPilot_Dataset(\"../data\", task = \"general\", ner = True, make_new_split = False)\n",
    "Dataset.get_data()"
   ]
  },
  {
   "cell_type": "code",
   "execution_count": 4,
   "metadata": {},
   "outputs": [],
   "source": [
    "class spanprediction:\n",
    "    def __init__(self,model,device):\n",
    "        self.id2label = {\n",
    "            0:'O', 1:'B-ES', 2:'I-ES', 3:'B-EFS', 4:'I-EFS', 5:'B-RS', 6:'I-RS'\n",
    "        }\n",
    "        self.label2id = {v:k for k,v in self.id2label.items()}\n",
    "        self.device=device\n",
    "        self.model=AutoModelForTokenClassification.from_pretrained(model,device_map=device,id2label=self.id2label, label2id=self.label2id)\n",
    "        self.tokenizer=AutoTokenizer.from_pretrained(model)\n",
    "        self.tokenizer.add_tokens(['<es>','<efs>','<rs>','<ee>', '<efe>', '<re>'])\n",
    "        self.idx=0\n",
    "    def id_to_label(self,outputs):\n",
    "        return [self.model.config.id2label[t] for t in outputs]\n",
    "\n",
    "    def chunking(self,example,context_size=512):\n",
    "\n",
    "        chunks={'input_ids':[],'attention_mask':[]}\n",
    "        for i in range(0, len(example['input_ids'][0]), context_size):\n",
    "            chunks['input_ids'].append(example['input_ids'][0][i:i+context_size])\n",
    "            chunks['attention_mask'].append(example['attention_mask'][0][i:i+context_size])\n",
    "            # word_ids.append(wordids[i:i+context_size])\n",
    "            if chunks['input_ids'][-1].shape[0]<context_size:\n",
    "                chunks['input_ids'][-1]=torch.cat([chunks['input_ids'][-1],torch.zeros(context_size-chunks['input_ids'][-1].shape[0],dtype=torch.long)])\n",
    "                chunks['attention_mask'][-1]=torch.cat([chunks['attention_mask'][-1],torch.zeros(context_size-chunks['attention_mask'][-1].shape[0],dtype=torch.long)])\n",
    "        chunks['input_ids']=torch.stack(chunks['input_ids']).to(self.device)\n",
    "        chunks['attention_mask']=torch.stack(chunks['attention_mask']).to(self.device)\n",
    "        return chunks\n",
    "\n",
    "    def predict(self,text):\n",
    "        self.idx=0\n",
    "        inputs = self.tokenizer(text, padding=\"max_length\",return_tensors=\"pt\",truncation=False)\n",
    "        # original_inputs=self.tokenizer.convert_ids_to_tokens(inputs['input_ids'][0])\n",
    "        token_ids=inputs.word_ids()\n",
    "        chunks=self.chunking(inputs)\n",
    "        original_inputs=inputs['input_ids'][0]\n",
    "        outputs = self.model(**chunks,).logits.cpu()\n",
    "        if outputs.shape[0]>1:\n",
    "            outputs=outputs.reshape(1,outputs.shape[1]*outputs.shape[0],outputs.shape[2])\n",
    "            outputs=outputs[:,outputs.shape[1]-original_inputs.shape[0]:,:]\n",
    "        # outputs=outputs.reshape(1,outputs.shape[1]*outputs.shape[0],outputs.shape[2])\n",
    "        # print(outputs.shape)\n",
    "        attention_mask=inputs['attention_mask'][0]\n",
    "        mask = attention_mask.view(-1) == 1  # Get non-padding indices\n",
    "        outputs = torch.argmax(outputs*attention_mask.unsqueeze(-1),dim=2)\n",
    "        filtered_preds = torch.masked_select(outputs.view(-1), mask)\n",
    "        outputs = [self.model.config.id2label[t.item()] for t in filtered_preds]\n",
    "        result=self.process_otuput(original_inputs,outputs,token_ids)\n",
    "        \n",
    "        return result\n",
    "    \n",
    "    def predict_batch(self,texts):\n",
    "        # inputs = self.tokenizer(texts, padding=\"max_length\",return_tensors=\"pt\")\n",
    "        # # original_inputs=self.tokenizer.convert_ids_to_tokens(inputs['input_ids'][0])\n",
    "        # inputs.to(self.device)\n",
    "        # outputs = self.model(**inputs).logits\n",
    "        # l=[]\n",
    "        # for i in range(outputs.shape[0]):\n",
    "        #     temp=outputs[i].unsqueeze(0)\n",
    "        #     attention_mask=inputs['attention_mask'][i].unsqueeze(0)\n",
    "        #     mask = attention_mask.view(-1) == 1  # Get non-padding indices\n",
    "        #     labels = torch.argmax(temp*attention_mask.unsqueeze(-1),dim=2)\n",
    "        #     filtered_preds = torch.masked_select(labels.view(-1), mask)\n",
    "        #     labels = [self.model.config.id2label[t.item()] for t in filtered_preds]\n",
    "        #     token_ids=inputs.word_ids(batch_index=i)\n",
    "        #     original_inputs=inputs['input_ids'][i]\n",
    "        #     l.append(self.process_otuput(original_inputs,labels,token_ids))\n",
    "        # return l\n",
    "        l=[]\n",
    "        for i in texts:\n",
    "            l.append(self.predict(i))\n",
    "        return l\n",
    "    \n",
    "    def process_otuput(self,inputs,preds,input_ids):\n",
    "        tags={'B-ES':'<es>', 'I-ES':'<ee>', 'B-EFS':'<efs>', 'I-EFS':'<efe>', 'B-RS':'<rs>', 'I-RS':'<re>'}\n",
    "        d2={}\n",
    "        z=0\n",
    "        for i in range(len(input_ids)):\n",
    "            if input_ids[i]!=None:\n",
    "                z=max(z,input_ids[i])\n",
    "                if input_ids[i] not in d2:\n",
    "                    d2[input_ids[i]]={\"inputs\":[inputs[i]],\"preds\":[preds[i]]}\n",
    "                else:\n",
    "                    d2[input_ids[i]][\"inputs\"].append(inputs[i])\n",
    "                    d2[input_ids[i]][\"preds\"].append(preds[i])\n",
    "        s=[]\n",
    "        labels=[]\n",
    "        for i in d2:\n",
    "            s.append(self.tokenizer.decode(d2[i]['inputs']) )\n",
    "            labels.append(d2[i]['preds'][0])\n",
    "\n",
    "        s2=[]\n",
    "        for i in range(len(s)):\n",
    "            if 'B' in labels[i]:\n",
    "                s2.append(tags[labels[i]])\n",
    "                s2.append(s[i])\n",
    "            elif i<len(s)-1 and labels[i] in tags and labels[i+1] not in tags:\n",
    "                s2.append(s[i])\n",
    "                s2.append(tags[labels[i]])\n",
    "            else :\n",
    "                s2.append(s[i])\n",
    "        return \"\".join(s2)\n",
    "        \n",
    "class level_classifier:\n",
    "    def __init__(self,base_name,model,device):\n",
    "        self.device=device\n",
    "        checkpoint = torch.load(model)\n",
    "        self.model = RobertaForMultiLabelMulticlassClassification.from_pretrained(\n",
    "            base_name, \n",
    "            num_labels=3,  # For 'event', 'effect', 'requirement'\n",
    "            num_classes_per_label=3,  # Since each label can take values 0, 1, or 2\n",
    "            device_map=device,\n",
    "        )\n",
    "        self.tokenizer=self.tokenizer = AutoTokenizer.from_pretrained(base_name)\n",
    "        self.tokenizer.add_tokens(['<es>','<efs>','<rs>','<ee>', '<efe>', '<re>'])\n",
    "        self.tokenizer.truncation_side=\"left\"\n",
    "        self.model.resize_token_embeddings(len(self.tokenizer))\n",
    "        self.model.load_state_dict(checkpoint)\n",
    "        \n",
    "    def predict(self,text):\n",
    "        inputs = self.tokenizer(\n",
    "            text,\n",
    "            add_special_tokens=True,\n",
    "            max_length=512,\n",
    "            padding='max_length',\n",
    "            truncation=True,\n",
    "            return_tensors='pt',\n",
    "        )\n",
    "        inputs.to(self.device)\n",
    "        outputs = self.model(**inputs)\n",
    "        outputs = torch.argmax(outputs, dim=1)\n",
    "        return outputs[0]\n",
    "    \n",
    "    def predict_batch(self,text):\n",
    "        inputs = self.tokenizer(\n",
    "            text,\n",
    "            add_special_tokens=True,\n",
    "            max_length=512,\n",
    "            padding='max_length',\n",
    "            truncation=True,\n",
    "            return_tensors='pt',\n",
    "        )\n",
    "        inputs.to(self.device)\n",
    "        outputs = self.model(**inputs)\n",
    "        outputs = torch.argmax(outputs, dim=1)\n",
    "        return outputs\n",
    "    \n",
    "class generator:\n",
    "    def load_model(self,base_model,model_name,model_type):\n",
    "        tokenizer=AutoTokenizer.from_pretrained(model_name)\n",
    "        tokenizer.truncation_side=\"left\"\n",
    "        tokenizer.padding_side=\"left\"\n",
    "        model = AutoModelForCausalLM.from_pretrained(\n",
    "        base_model,\n",
    "        load_in_8bit=True,\n",
    "        torch_dtype = torch.bfloat16,\n",
    "        attn_implementation=self.attn_implementation,\n",
    "        device_map=self.device\n",
    "        )\n",
    "        if model_type==\"dpo\":\n",
    "            peft_model = PeftModel.from_pretrained(model, model_name+\"/train1\")\n",
    "        elif model_type==\"sft\":\n",
    "            peft_model = PeftModel.from_pretrained(model, model_name)\n",
    "        peft_model.config.use_cache = True\n",
    "        return peft_model,tokenizer\n",
    "    \n",
    "    def __init__(self,base_model,model,device,model_type):\n",
    "        self.device=device\n",
    "        self.attn_implementation=\"flash_attention_2\"\n",
    "        self.model,self.tokenizer=self.load_model(base_model,model,model_type)\n",
    "        self.generation_kwargs={\"num_return_sequences\":1,\"max_new_tokens\":100}\n",
    "        self.context_length=1024\n",
    "        self.prompt_template=prompts.gemma_get_prompt\n",
    "        self.system_prompt='''A support seeker on a peer-to-peer (P2P) Online Mental Health Platform (OMHP) is an individual who utilizes digital services to seek assistance/help for managing and improving their mental health, typically through interactions with peer groups or self-help resources.\n",
    "        The parameters are defined as follows:\n",
    "            Event: This parameter encapsulates the specific situation, activity, or event that is the focal point of the support seeker’s concern. The explicit detailing of such events provides a contextual background essential for empathetic understanding.\n",
    "            Effect: This aspect targets the impact or consequences of the identified event on the support seeker. By elucidating the effect, the post conveys the emotional or practical repercussions of the event, thereby inviting more targeted and empathetic responses. \n",
    "            Requirement: This parameter is critical in directing the nature of the assistance sought. It ranges from emotional and informational support to instrumental aid, thereby guiding the potential response trajectory.\n",
    "\n",
    "        In the posts on OMHP these parameters can have intensity ranging from 0 to 2, where 0 means absent, 1 means present but needs clarification and 2 being well described based on the presence of these parameters in the post\n",
    "\n",
    "            Consider the following post by a support seeker on a OMHP, in which the spans of text representing Event, Effect and Requirement have been marked. Also, the intensity levels for each of the parameters in the post have been provided along with the post.\n",
    "            The post is context of the victim.\n",
    "            The post <es> and <ee> tags encapsulate the spans for the Event parameter, <efs> and <efe> tags encapsulate the spans for the Effect parameter, and <rs> and <re> tags encapsulate the spans for the Requirement parameter.\n",
    "        '''\n",
    "    def prepare_eval(self,annotated_post_body,levels):\n",
    "        post=annotated_post_body\n",
    "        note=\"Generate 3 questions following the schema according to the scale of event, effect and requirement provided below the post, for helping the support giver to understand more about the victim.Strictly follow the question format of schema.Give only the json output as specified in the schema and no explanation needed.\"\n",
    "        prompt=\"Post: \"+post+\"\\n\\n\"+\"event scale: \"+str(levels[0].item())+\" effect scale: \"+str(levels[1].item())+\" requirement scale: \"+str(levels[2].item())+\"\\n\\n\"+\"schema:\\n\"+'''{\"event_question\": \"\",\"effect_question\": \"\",\"requirement_question\": \"\"}'''+\"\\n\\n\"+note\n",
    "        # print(prompt)\n",
    "        model_input=self.prompt_template(self.system_prompt,prompt)\n",
    "        return model_input\n",
    "\n",
    "    def generate(self,annotated_post_body,levels):\n",
    "        print(levels)\n",
    "\n",
    "        text=[self.prepare_eval(annotated_post_body[i],levels[i].detach().cpu()) for i in range(len(annotated_post_body))]\n",
    "        inputs = self.tokenizer(text, return_tensors='pt',padding=True, \n",
    "                            max_length=self.context_length,truncation=True).to(\"cuda:0\")\n",
    "        preds=[]\n",
    "        inputs.to(self.device)\n",
    "        outputs = self.model.generate(**inputs,**self.generation_kwargs)\n",
    "        text = self.tokenizer.batch_decode(outputs[:,inputs['input_ids'].shape[1]:], skip_special_tokens=True)\n",
    "        for i in text:\n",
    "            preds.append(i)\n",
    "        return preds"
   ]
  },
  {
   "cell_type": "code",
   "execution_count": 5,
   "metadata": {},
   "outputs": [
    {
     "name": "stdout",
     "output_type": "stream",
     "text": [
      "{'title': 'Burnt out in my current career and unsure of where to go next', 'body': 'I (F, 25, ADHD combination type) have been with my current company for about a year and a half. It started out great!\\n\\nThings I enjoyed initially:\\n\\n• Flexible boss\\n\\n• Engaging projects\\n\\n• Good individual &amp; teamwork balance \\n\\n• The fact that I was working in a field that somewhat aligned with my college education\\n\\nAbout 5 months in, things changed and it has been quite the trainwreck:\\n\\n•Lost motivation/interest for even the simplest tasks &amp; projects\\n\\n•Made some pretty significant mistakes due to poor planning/time management and lack of attention to detail\\n\\n•Work-life balance is shot due to 50-80 hour work weeks including weekends during the fall, winter and early spring- my personal life is really important to me and it has taken a huge hit as a result\\n\\n• Coworkers treat me like I’m incompetent &amp; constantly talk about me within earshot (no help from our boss) \\n\\nI’ve tried nearly every trick/tip to manage my ADHD symptoms at work but I’ve realized this job &amp; work culture is just not a good fit for me. As a result, I have been looking for a career change the last 8 months with no luck. My lack of luck probably has to do with the fact I’m terrified of ending up in a similar position and cannot decide what path to pursue.\\n\\nI’m considering a career change to something in design or marketing which aligns well with my personality, interests, &amp; work style, but the jump from science, to either of the previously mentioned options, is also making me scared. \\n\\nIn any case, I’m tired, frustrated and feeling pretty down about my current situation (I’m in jeopardy of losing my job at this point) and I really needed to get it off my chest. \\n\\nTl; dr- I need a new career but induced anxiety from ADHD shortcomings is holding me back and I’m not sure where to go from here.', 'annotated_post_body': '<es>I (F, 25, ADHD combination type) have been with my current company for about a year and a half.<ee> <es>It started out great!<ee>  <es>Things I enjoyed initially:<ee>  <es>• Flexible boss<ee>  <es>• Engaging projects<ee>  <es>• Good individual &amp; teamwork balance <ee>  <es>• The fact that I was working in a field that somewhat aligned with my college education<ee>  <es>About 5 months in, things changed and it has been quite the trainwreck:<ee>  <efs>•Lost motivation/interest for even the simplest tasks &amp; projects<efe>  <es>•Made some pretty significant mistakes due to poor planning/time management and lack of attention to detail<ee>  <es>•Work-life balance is shot due to 50-80 hour work weeks including weekends during the fall, winter and early spring- my personal life is really important to me and it has taken a huge hit as a result<ee>  <es>• Coworkers treat me like I’m incompetent &amp; constantly talk about me within earshot (no help from our boss) <ee>  <es>I’ve tried nearly every trick/tip to manage my ADHD symptoms at work but I’ve realized this job &amp; work culture is just not a good fit for me.<ee> <es>As a result, I have been looking for a career change the last 8 months with no luck.<ee> <efs>My lack of luck probably has to do with the fact I’m terrified of ending up in a similar position and cannot decide what path to pursue.<efe>  <rs>I’m considering a career change to something in design or marketing which aligns well with my personality, interests, &amp; work style, but the jump from science, to either of the previously mentioned options, is also making me scared. <re>  <efs>In any case, I’m tired, frustrated and feeling pretty down about my current situation (I’m in jeopardy of losing my job at this point). <rs>I really needed to get it off my chest. <re>  <es>Tl; dr- I need a new career but induced anxiety from ADHD shortcomings is holding me back and I’m not sure where to go from here.<ee>', 'ES': '2', 'EFS': 2, 'RS': 2, 'EMaskingQ': '', 'EMask': '', 'EFSMaskingQ': '', 'EFSMask': '', 'RMaskingQ': '', 'RMask': '', 'labels': [2.0, 2.0, 2.0], 'ner_tokens': ['I', 'F', '25', 'ADHD', 'combination', 'type', 'have', 'been', 'with', 'my', 'current', 'company', 'for', 'about', 'a', 'year', 'and', 'a', 'half', 'It', 'started', 'out', 'great', 'Things', 'I', 'enjoyed', 'initially', 'Flexible', 'boss', 'Engaging', 'projects', 'Good', 'individual', 'amp', 'teamwork', 'balance', 'The', 'fact', 'that', 'I', 'was', 'working', 'in', 'a', 'field', 'that', 'somewhat', 'aligned', 'with', 'my', 'college', 'education', 'About', '5', 'months', 'in', 'things', 'changed', 'and', 'it', 'has', 'been', 'quite', 'the', 'trainwreck', 'Lost', 'motivation', 'interest', 'for', 'even', 'the', 'simplest', 'tasks', 'amp', 'projects', 'Made', 'some', 'pretty', 'significant', 'mistakes', 'due', 'to', 'poor', 'planning', 'time', 'management', 'and', 'lack', 'of', 'attention', 'to', 'detail', 'Work', 'life', 'balance', 'is', 'shot', 'due', 'to', '50', '80', 'hour', 'work', 'weeks', 'including', 'weekends', 'during', 'the', 'fall', 'winter', 'and', 'early', 'spring', 'my', 'personal', 'life', 'is', 'really', 'important', 'to', 'me', 'and', 'it', 'has', 'taken', 'a', 'huge', 'hit', 'as', 'a', 'result', 'Coworkers', 'treat', 'me', 'like', 'I', 'm', 'incompetent', 'amp', 'constantly', 'talk', 'about', 'me', 'within', 'earshot', 'no', 'help', 'from', 'our', 'boss', 'I', 've', 'tried', 'nearly', 'every', 'trick', 'tip', 'to', 'manage', 'my', 'ADHD', 'symptoms', 'at', 'work', 'but', 'I', 've', 'realized', 'this', 'job', 'amp', 'work', 'culture', 'is', 'just', 'not', 'a', 'good', 'fit', 'for', 'me', 'As', 'a', 'result', 'I', 'have', 'been', 'looking', 'for', 'a', 'career', 'change', 'the', 'last', '8', 'months', 'with', 'no', 'luck', 'My', 'lack', 'of', 'luck', 'probably', 'has', 'to', 'do', 'with', 'the', 'fact', 'I', 'm', 'terrified', 'of', 'ending', 'up', 'in', 'a', 'similar', 'position', 'and', 'cannot', 'decide', 'what', 'path', 'to', 'pursue', 'I', 'm', 'considering', 'a', 'career', 'change', 'to', 'something', 'in', 'design', 'or', 'marketing', 'which', 'aligns', 'well', 'with', 'my', 'personality', 'interests', 'amp', 'work', 'style', 'but', 'the', 'jump', 'from', 'science', 'to', 'either', 'of', 'the', 'previously', 'mentioned', 'options', 'is', 'also', 'making', 'me', 'scared', 'In', 'any', 'case', 'I', 'm', 'tired', 'frustrated', 'and', 'feeling', 'pretty', 'down', 'about', 'my', 'current', 'situation', 'I', 'm', 'in', 'jeopardy', 'of', 'losing', 'my', 'job', 'at', 'this', 'point', 'I', 'really', 'needed', 'to', 'get', 'it', 'off', 'my', 'chest', 'Tl', 'dr', 'I', 'need', 'a', 'new', 'career', 'but', 'induced', 'anxiety', 'from', 'ADHD', 'shortcomings', 'is', 'holding', 'me', 'back', 'and', 'I', 'm', 'not', 'sure', 'where', 'to', 'go', 'from', 'here'], 'ner_labels': [1, 2, 2, 2, 2, 2, 2, 2, 2, 2, 2, 2, 2, 2, 2, 2, 2, 2, 2, 2, 2, 2, 2, 2, 2, 2, 2, 2, 2, 2, 2, 2, 2, 2, 2, 2, 2, 2, 2, 2, 2, 2, 2, 2, 2, 2, 2, 2, 2, 2, 2, 2, 2, 2, 2, 2, 2, 2, 2, 2, 2, 2, 2, 2, 2, 3, 4, 4, 4, 4, 4, 4, 4, 4, 4, 1, 2, 2, 2, 2, 2, 2, 2, 2, 2, 2, 2, 2, 2, 2, 2, 2, 2, 2, 2, 2, 2, 2, 2, 2, 2, 2, 2, 2, 2, 2, 2, 2, 2, 2, 2, 2, 2, 2, 2, 2, 2, 2, 2, 2, 2, 2, 2, 2, 2, 2, 2, 2, 2, 2, 2, 2, 2, 2, 2, 2, 2, 2, 2, 2, 2, 2, 2, 2, 2, 2, 2, 2, 2, 2, 2, 2, 2, 2, 2, 2, 2, 2, 2, 2, 2, 2, 2, 2, 2, 2, 2, 2, 2, 2, 2, 2, 2, 2, 2, 2, 2, 2, 2, 2, 2, 2, 2, 2, 2, 2, 2, 2, 2, 2, 2, 2, 2, 2, 2, 2, 2, 2, 2, 3, 4, 4, 4, 4, 4, 4, 4, 4, 4, 4, 4, 4, 4, 4, 4, 4, 4, 4, 4, 4, 4, 4, 4, 4, 4, 4, 4, 5, 6, 6, 6, 6, 6, 6, 6, 6, 6, 6, 6, 6, 6, 6, 6, 6, 6, 6, 6, 6, 6, 6, 6, 6, 6, 6, 6, 6, 6, 6, 6, 6, 6, 6, 6, 6, 6, 6, 3, 4, 4, 4, 4, 4, 4, 4, 4, 4, 4, 4, 4, 4, 4, 4, 4, 4, 4, 4, 4, 4, 4, 4, 4, 4, 5, 6, 6, 6, 6, 6, 6, 6, 6, 1, 2, 2, 2, 2, 2, 2, 2, 2, 2, 2, 2, 2, 2, 2, 2, 2, 2, 2, 2, 2, 2, 2, 2, 2, 2, 2]}\n"
     ]
    }
   ],
   "source": [
    "test_data=Dataset.test_df\n",
    "print(test_data[1])\n",
    "test_data=test_data.remove_columns(['title', 'annotated_post_body', 'EMaskingQ', 'EMask', 'EFSMaskingQ', 'EFSMask', 'RMaskingQ', 'RMask', 'labels', 'ner_tokens', 'ner_labels'])"
   ]
  },
  {
   "cell_type": "code",
   "execution_count": 6,
   "metadata": {},
   "outputs": [],
   "source": [
    "span_model=\"../spanpred/results_roberta-testing\"\n",
    "span_predictor=spanprediction(span_model,\"cuda:0\")"
   ]
  },
  {
   "cell_type": "code",
   "execution_count": 8,
   "metadata": {},
   "outputs": [
    {
     "name": "stderr",
     "output_type": "stream",
     "text": [
      "Some weights of RobertaForMultiLabelMulticlassClassification were not initialized from the model checkpoint at roberta-base and are newly initialized: ['classifier.bias', 'classifier.weight', 'roberta.pooler.dense.bias', 'roberta.pooler.dense.weight']\n",
      "You should probably TRAIN this model on a down-stream task to be able to use it for predictions and inference.\n"
     ]
    }
   ],
   "source": [
    "level_model=level_classifier(\"roberta-base\",\"checkpoints/clf_RoBERTa-ordinal.pt\",\"cuda:0\")\n"
   ]
  },
  {
   "cell_type": "code",
   "execution_count": null,
   "metadata": {},
   "outputs": [
    {
     "name": "stderr",
     "output_type": "stream",
     "text": [
      "The `load_in_4bit` and `load_in_8bit` arguments are deprecated and will be removed in the future versions. Please, pass a `BitsAndBytesConfig` object in `quantization_config` argument instead.\n",
      "Loading checkpoint shards: 100%|██████████| 2/2 [00:01<00:00,  1.34it/s]\n"
     ]
    }
   ],
   "source": [
    "gen_dpo_model=generator(\"google/gemma-2b-it\",\"../Pipeline/gemma2-dpo-2final\",\"cuda:0\",\"dpo\")"
   ]
  },
  {
   "cell_type": "code",
   "execution_count": null,
   "metadata": {},
   "outputs": [
    {
     "name": "stderr",
     "output_type": "stream",
     "text": [
      "  0%|          | 0/17 [00:00<?, ?it/s]"
     ]
    },
    {
     "name": "stdout",
     "output_type": "stream",
     "text": [
      "tensor([[2, 1, 1],\n",
      "        [2, 2, 1],\n",
      "        [2, 1, 0],\n",
      "        [2, 0, 1],\n",
      "        [1, 1, 0],\n",
      "        [1, 1, 1]])\n"
     ]
    },
    {
     "name": "stderr",
     "output_type": "stream",
     "text": [
      "  6%|▌         | 1/17 [00:09<02:34,  9.68s/it]"
     ]
    },
    {
     "name": "stdout",
     "output_type": "stream",
     "text": [
      "tensor([[2, 0, 0],\n",
      "        [1, 1, 2],\n",
      "        [1, 1, 2],\n",
      "        [1, 2, 0],\n",
      "        [1, 1, 1],\n",
      "        [2, 1, 1]])\n"
     ]
    },
    {
     "name": "stderr",
     "output_type": "stream",
     "text": [
      " 12%|█▏        | 2/17 [00:18<02:15,  9.04s/it]"
     ]
    },
    {
     "name": "stdout",
     "output_type": "stream",
     "text": [
      "tensor([[2, 1, 1],\n",
      "        [1, 0, 2],\n",
      "        [1, 1, 0],\n",
      "        [1, 0, 2],\n",
      "        [2, 0, 0],\n",
      "        [0, 1, 2]])\n"
     ]
    },
    {
     "name": "stderr",
     "output_type": "stream",
     "text": [
      " 18%|█▊        | 3/17 [00:27<02:05,  8.99s/it]"
     ]
    },
    {
     "name": "stdout",
     "output_type": "stream",
     "text": [
      "tensor([[2, 0, 0],\n",
      "        [2, 1, 1],\n",
      "        [1, 1, 2],\n",
      "        [2, 1, 1],\n",
      "        [1, 1, 0],\n",
      "        [2, 2, 1]])\n"
     ]
    },
    {
     "name": "stderr",
     "output_type": "stream",
     "text": [
      " 24%|██▎       | 4/17 [00:34<01:50,  8.49s/it]"
     ]
    },
    {
     "name": "stdout",
     "output_type": "stream",
     "text": [
      "tensor([[1, 0, 2],\n",
      "        [2, 1, 1],\n",
      "        [2, 1, 1],\n",
      "        [1, 0, 0],\n",
      "        [2, 1, 0],\n",
      "        [2, 0, 1]])\n"
     ]
    },
    {
     "name": "stderr",
     "output_type": "stream",
     "text": [
      " 29%|██▉       | 5/17 [00:43<01:41,  8.47s/it]"
     ]
    },
    {
     "name": "stdout",
     "output_type": "stream",
     "text": [
      "tensor([[2, 2, 1],\n",
      "        [1, 1, 1],\n",
      "        [2, 2, 0],\n",
      "        [1, 2, 1],\n",
      "        [2, 1, 1],\n",
      "        [1, 0, 2]])\n"
     ]
    },
    {
     "name": "stderr",
     "output_type": "stream",
     "text": [
      " 35%|███▌      | 6/17 [00:52<01:34,  8.62s/it]"
     ]
    },
    {
     "name": "stdout",
     "output_type": "stream",
     "text": [
      "tensor([[1, 2, 1],\n",
      "        [2, 1, 0],\n",
      "        [2, 2, 0],\n",
      "        [1, 1, 1],\n",
      "        [1, 0, 2],\n",
      "        [2, 1, 0]])\n"
     ]
    },
    {
     "name": "stderr",
     "output_type": "stream",
     "text": [
      " 41%|████      | 7/17 [01:00<01:26,  8.61s/it]"
     ]
    },
    {
     "name": "stdout",
     "output_type": "stream",
     "text": [
      "tensor([[1, 1, 2],\n",
      "        [1, 0, 2],\n",
      "        [2, 1, 0],\n",
      "        [2, 0, 1],\n",
      "        [1, 2, 2],\n",
      "        [1, 2, 0]])\n"
     ]
    },
    {
     "name": "stderr",
     "output_type": "stream",
     "text": [
      " 47%|████▋     | 8/17 [01:09<01:17,  8.61s/it]"
     ]
    },
    {
     "name": "stdout",
     "output_type": "stream",
     "text": [
      "tensor([[1, 1, 1],\n",
      "        [2, 1, 1],\n",
      "        [2, 0, 0],\n",
      "        [1, 0, 2],\n",
      "        [2, 2, 1],\n",
      "        [1, 1, 0]])\n"
     ]
    },
    {
     "name": "stderr",
     "output_type": "stream",
     "text": [
      " 53%|█████▎    | 9/17 [01:18<01:09,  8.67s/it]"
     ]
    },
    {
     "name": "stdout",
     "output_type": "stream",
     "text": [
      "tensor([[1, 1, 1],\n",
      "        [1, 0, 2],\n",
      "        [2, 2, 1],\n",
      "        [1, 1, 1],\n",
      "        [0, 1, 2],\n",
      "        [0, 1, 2]])\n"
     ]
    },
    {
     "name": "stderr",
     "output_type": "stream",
     "text": [
      " 59%|█████▉    | 10/17 [01:27<01:00,  8.70s/it]"
     ]
    },
    {
     "name": "stdout",
     "output_type": "stream",
     "text": [
      "tensor([[1, 2, 1],\n",
      "        [2, 1, 1],\n",
      "        [1, 1, 1],\n",
      "        [1, 0, 2],\n",
      "        [2, 0, 1],\n",
      "        [2, 1, 1]])\n"
     ]
    },
    {
     "name": "stderr",
     "output_type": "stream",
     "text": [
      " 65%|██████▍   | 11/17 [01:35<00:52,  8.77s/it]"
     ]
    },
    {
     "name": "stdout",
     "output_type": "stream",
     "text": [
      "tensor([[1, 2, 2],\n",
      "        [2, 1, 1],\n",
      "        [1, 0, 2],\n",
      "        [2, 1, 1],\n",
      "        [0, 2, 1],\n",
      "        [2, 1, 1]])\n"
     ]
    },
    {
     "name": "stderr",
     "output_type": "stream",
     "text": [
      " 71%|███████   | 12/17 [01:43<00:42,  8.41s/it]"
     ]
    },
    {
     "name": "stdout",
     "output_type": "stream",
     "text": [
      "tensor([[1, 2, 2],\n",
      "        [2, 1, 0],\n",
      "        [2, 1, 2],\n",
      "        [2, 1, 1],\n",
      "        [1, 1, 0],\n",
      "        [2, 1, 1]])\n"
     ]
    },
    {
     "name": "stderr",
     "output_type": "stream",
     "text": [
      " 76%|███████▋  | 13/17 [01:52<00:34,  8.53s/it]"
     ]
    },
    {
     "name": "stdout",
     "output_type": "stream",
     "text": [
      "tensor([[2, 1, 1],\n",
      "        [2, 0, 0],\n",
      "        [1, 0, 0],\n",
      "        [1, 1, 2],\n",
      "        [1, 1, 0],\n",
      "        [1, 1, 2]])\n"
     ]
    },
    {
     "name": "stderr",
     "output_type": "stream",
     "text": [
      " 82%|████████▏ | 14/17 [02:01<00:25,  8.63s/it]"
     ]
    },
    {
     "name": "stdout",
     "output_type": "stream",
     "text": [
      "tensor([[1, 1, 2],\n",
      "        [1, 0, 2],\n",
      "        [2, 0, 1],\n",
      "        [2, 1, 2],\n",
      "        [1, 1, 2],\n",
      "        [1, 0, 2]])\n"
     ]
    },
    {
     "name": "stderr",
     "output_type": "stream",
     "text": [
      " 88%|████████▊ | 15/17 [02:08<00:16,  8.16s/it]"
     ]
    },
    {
     "name": "stdout",
     "output_type": "stream",
     "text": [
      "tensor([[2, 1, 1],\n",
      "        [1, 1, 2],\n",
      "        [1, 1, 1],\n",
      "        [1, 1, 2],\n",
      "        [1, 0, 2],\n",
      "        [0, 1, 2]])\n"
     ]
    },
    {
     "name": "stderr",
     "output_type": "stream",
     "text": [
      " 94%|█████████▍| 16/17 [02:15<00:08,  8.00s/it]"
     ]
    },
    {
     "name": "stdout",
     "output_type": "stream",
     "text": [
      "tensor([[2, 1, 1],\n",
      "        [1, 1, 2],\n",
      "        [1, 1, 1],\n",
      "        [1, 2, 0]])\n"
     ]
    },
    {
     "name": "stderr",
     "output_type": "stream",
     "text": [
      "100%|██████████| 17/17 [02:24<00:00,  8.50s/it]\n"
     ]
    }
   ],
   "source": [
    "import json\n",
    "def prepare(row):\n",
    "    return row\n",
    "from torch.utils.data import DataLoader\n",
    "test_data=test_data.map(prepare,batched=False).select(range(100))\n",
    "dataloader = DataLoader(test_data, batch_size=6,shuffle=False)\n",
    "d={'post':[],\"spans\":[],\"levels\":[]}\n",
    "l=[]\n",
    "d['dpo_questions']=[]\n",
    "t=0\n",
    "for batch in tqdm(dataloader,total=len(dataloader)):\n",
    "    span_output=l[t][0]\n",
    "    level_output=l[t][1]\n",
    "    gen_output=gen_dpo_model.generate(span_output,level_output)\n",
    "    # d['post'].extend(batch['body']\n",
    "    t+=1\n",
    "    d['dpo_questions'].extend([json.loads(output.strip()) for output in gen_output])"
   ]
  }
 ],
 "metadata": {
  "kernelspec": {
   "display_name": "mhcp3",
   "language": "python",
   "name": "python3"
  },
  "language_info": {
   "codemirror_mode": {
    "name": "ipython",
    "version": 3
   },
   "file_extension": ".py",
   "mimetype": "text/x-python",
   "name": "python",
   "nbconvert_exporter": "python",
   "pygments_lexer": "ipython3",
   "version": "3.8.19"
  }
 },
 "nbformat": 4,
 "nbformat_minor": 2
}
